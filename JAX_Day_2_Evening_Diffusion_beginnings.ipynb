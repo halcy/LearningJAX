{
  "nbformat": 4,
  "nbformat_minor": 0,
  "metadata": {
    "colab": {
      "name": "JAX Day 2 Evening - Diffusion beginnings.ipynb",
      "provenance": [],
      "collapsed_sections": [],
      "toc_visible": true,
      "authorship_tag": "ABX9TyNIHnjCL3Ba09GopqgqSKUt",
      "include_colab_link": true
    },
    "kernelspec": {
      "name": "python3",
      "display_name": "Python 3"
    },
    "language_info": {
      "name": "python"
    },
    "accelerator": "TPU",
    "widgets": {
      "application/vnd.jupyter.widget-state+json": {
        "5609a0ab023947ba9299621f1d9cd485": {
          "model_module": "@jupyter-widgets/controls",
          "model_name": "HBoxModel",
          "state": {
            "_view_name": "HBoxView",
            "_dom_classes": [],
            "_model_name": "HBoxModel",
            "_view_module": "@jupyter-widgets/controls",
            "_model_module_version": "1.5.0",
            "_view_count": null,
            "_view_module_version": "1.5.0",
            "box_style": "",
            "layout": "IPY_MODEL_e61a45b4b8154a47a7902cbef25312eb",
            "_model_module": "@jupyter-widgets/controls",
            "children": [
              "IPY_MODEL_cc3632064cef48719afd999bce4a63a7",
              "IPY_MODEL_de687127333b4072bffd1b78e671fa41",
              "IPY_MODEL_cce625f6424d47b796ef554fa7192495"
            ]
          }
        },
        "e61a45b4b8154a47a7902cbef25312eb": {
          "model_module": "@jupyter-widgets/base",
          "model_name": "LayoutModel",
          "state": {
            "_view_name": "LayoutView",
            "grid_template_rows": null,
            "right": null,
            "justify_content": null,
            "_view_module": "@jupyter-widgets/base",
            "overflow": null,
            "_model_module_version": "1.2.0",
            "_view_count": null,
            "flex_flow": null,
            "width": null,
            "min_width": null,
            "border": null,
            "align_items": null,
            "bottom": null,
            "_model_module": "@jupyter-widgets/base",
            "top": null,
            "grid_column": null,
            "overflow_y": null,
            "overflow_x": null,
            "grid_auto_flow": null,
            "grid_area": null,
            "grid_template_columns": null,
            "flex": null,
            "_model_name": "LayoutModel",
            "justify_items": null,
            "grid_row": null,
            "max_height": null,
            "align_content": null,
            "visibility": null,
            "align_self": null,
            "height": null,
            "min_height": null,
            "padding": null,
            "grid_auto_rows": null,
            "grid_gap": null,
            "max_width": null,
            "order": null,
            "_view_module_version": "1.2.0",
            "grid_template_areas": null,
            "object_position": null,
            "object_fit": null,
            "grid_auto_columns": null,
            "margin": null,
            "display": null,
            "left": null
          }
        },
        "cc3632064cef48719afd999bce4a63a7": {
          "model_module": "@jupyter-widgets/controls",
          "model_name": "HTMLModel",
          "state": {
            "_view_name": "HTMLView",
            "style": "IPY_MODEL_988bb90b596046f8bfb83c37eeb6ceb7",
            "_dom_classes": [],
            "description": "",
            "_model_name": "HTMLModel",
            "placeholder": "​",
            "_view_module": "@jupyter-widgets/controls",
            "_model_module_version": "1.5.0",
            "value": "Dl Completed...: 100%",
            "_view_count": null,
            "_view_module_version": "1.5.0",
            "description_tooltip": null,
            "_model_module": "@jupyter-widgets/controls",
            "layout": "IPY_MODEL_041b482f600b4175af3351fd4cd9f0df"
          }
        },
        "de687127333b4072bffd1b78e671fa41": {
          "model_module": "@jupyter-widgets/controls",
          "model_name": "FloatProgressModel",
          "state": {
            "_view_name": "ProgressView",
            "style": "IPY_MODEL_aef02c0d3f654cce9993a83001fc180f",
            "_dom_classes": [],
            "description": "",
            "_model_name": "FloatProgressModel",
            "bar_style": "success",
            "max": 4,
            "_view_module": "@jupyter-widgets/controls",
            "_model_module_version": "1.5.0",
            "value": 4,
            "_view_count": null,
            "_view_module_version": "1.5.0",
            "orientation": "horizontal",
            "min": 0,
            "description_tooltip": null,
            "_model_module": "@jupyter-widgets/controls",
            "layout": "IPY_MODEL_834e19463dbd4d2980164213deec664e"
          }
        },
        "cce625f6424d47b796ef554fa7192495": {
          "model_module": "@jupyter-widgets/controls",
          "model_name": "HTMLModel",
          "state": {
            "_view_name": "HTMLView",
            "style": "IPY_MODEL_829d27bf22c64ee9b4fe779440fc465c",
            "_dom_classes": [],
            "description": "",
            "_model_name": "HTMLModel",
            "placeholder": "​",
            "_view_module": "@jupyter-widgets/controls",
            "_model_module_version": "1.5.0",
            "value": " 4/4 [00:00&lt;00:00,  4.99 file/s]",
            "_view_count": null,
            "_view_module_version": "1.5.0",
            "description_tooltip": null,
            "_model_module": "@jupyter-widgets/controls",
            "layout": "IPY_MODEL_160f4be054a4427182431155a9311f21"
          }
        },
        "988bb90b596046f8bfb83c37eeb6ceb7": {
          "model_module": "@jupyter-widgets/controls",
          "model_name": "DescriptionStyleModel",
          "state": {
            "_view_name": "StyleView",
            "_model_name": "DescriptionStyleModel",
            "description_width": "",
            "_view_module": "@jupyter-widgets/base",
            "_model_module_version": "1.5.0",
            "_view_count": null,
            "_view_module_version": "1.2.0",
            "_model_module": "@jupyter-widgets/controls"
          }
        },
        "041b482f600b4175af3351fd4cd9f0df": {
          "model_module": "@jupyter-widgets/base",
          "model_name": "LayoutModel",
          "state": {
            "_view_name": "LayoutView",
            "grid_template_rows": null,
            "right": null,
            "justify_content": null,
            "_view_module": "@jupyter-widgets/base",
            "overflow": null,
            "_model_module_version": "1.2.0",
            "_view_count": null,
            "flex_flow": null,
            "width": null,
            "min_width": null,
            "border": null,
            "align_items": null,
            "bottom": null,
            "_model_module": "@jupyter-widgets/base",
            "top": null,
            "grid_column": null,
            "overflow_y": null,
            "overflow_x": null,
            "grid_auto_flow": null,
            "grid_area": null,
            "grid_template_columns": null,
            "flex": null,
            "_model_name": "LayoutModel",
            "justify_items": null,
            "grid_row": null,
            "max_height": null,
            "align_content": null,
            "visibility": null,
            "align_self": null,
            "height": null,
            "min_height": null,
            "padding": null,
            "grid_auto_rows": null,
            "grid_gap": null,
            "max_width": null,
            "order": null,
            "_view_module_version": "1.2.0",
            "grid_template_areas": null,
            "object_position": null,
            "object_fit": null,
            "grid_auto_columns": null,
            "margin": null,
            "display": null,
            "left": null
          }
        },
        "aef02c0d3f654cce9993a83001fc180f": {
          "model_module": "@jupyter-widgets/controls",
          "model_name": "ProgressStyleModel",
          "state": {
            "_view_name": "StyleView",
            "_model_name": "ProgressStyleModel",
            "description_width": "",
            "_view_module": "@jupyter-widgets/base",
            "_model_module_version": "1.5.0",
            "_view_count": null,
            "_view_module_version": "1.2.0",
            "bar_color": null,
            "_model_module": "@jupyter-widgets/controls"
          }
        },
        "834e19463dbd4d2980164213deec664e": {
          "model_module": "@jupyter-widgets/base",
          "model_name": "LayoutModel",
          "state": {
            "_view_name": "LayoutView",
            "grid_template_rows": null,
            "right": null,
            "justify_content": null,
            "_view_module": "@jupyter-widgets/base",
            "overflow": null,
            "_model_module_version": "1.2.0",
            "_view_count": null,
            "flex_flow": null,
            "width": null,
            "min_width": null,
            "border": null,
            "align_items": null,
            "bottom": null,
            "_model_module": "@jupyter-widgets/base",
            "top": null,
            "grid_column": null,
            "overflow_y": null,
            "overflow_x": null,
            "grid_auto_flow": null,
            "grid_area": null,
            "grid_template_columns": null,
            "flex": null,
            "_model_name": "LayoutModel",
            "justify_items": null,
            "grid_row": null,
            "max_height": null,
            "align_content": null,
            "visibility": null,
            "align_self": null,
            "height": null,
            "min_height": null,
            "padding": null,
            "grid_auto_rows": null,
            "grid_gap": null,
            "max_width": null,
            "order": null,
            "_view_module_version": "1.2.0",
            "grid_template_areas": null,
            "object_position": null,
            "object_fit": null,
            "grid_auto_columns": null,
            "margin": null,
            "display": null,
            "left": null
          }
        },
        "829d27bf22c64ee9b4fe779440fc465c": {
          "model_module": "@jupyter-widgets/controls",
          "model_name": "DescriptionStyleModel",
          "state": {
            "_view_name": "StyleView",
            "_model_name": "DescriptionStyleModel",
            "description_width": "",
            "_view_module": "@jupyter-widgets/base",
            "_model_module_version": "1.5.0",
            "_view_count": null,
            "_view_module_version": "1.2.0",
            "_model_module": "@jupyter-widgets/controls"
          }
        },
        "160f4be054a4427182431155a9311f21": {
          "model_module": "@jupyter-widgets/base",
          "model_name": "LayoutModel",
          "state": {
            "_view_name": "LayoutView",
            "grid_template_rows": null,
            "right": null,
            "justify_content": null,
            "_view_module": "@jupyter-widgets/base",
            "overflow": null,
            "_model_module_version": "1.2.0",
            "_view_count": null,
            "flex_flow": null,
            "width": null,
            "min_width": null,
            "border": null,
            "align_items": null,
            "bottom": null,
            "_model_module": "@jupyter-widgets/base",
            "top": null,
            "grid_column": null,
            "overflow_y": null,
            "overflow_x": null,
            "grid_auto_flow": null,
            "grid_area": null,
            "grid_template_columns": null,
            "flex": null,
            "_model_name": "LayoutModel",
            "justify_items": null,
            "grid_row": null,
            "max_height": null,
            "align_content": null,
            "visibility": null,
            "align_self": null,
            "height": null,
            "min_height": null,
            "padding": null,
            "grid_auto_rows": null,
            "grid_gap": null,
            "max_width": null,
            "order": null,
            "_view_module_version": "1.2.0",
            "grid_template_areas": null,
            "object_position": null,
            "object_fit": null,
            "grid_auto_columns": null,
            "margin": null,
            "display": null,
            "left": null
          }
        }
      }
    }
  },
  "cells": [
    {
      "cell_type": "markdown",
      "metadata": {
        "id": "view-in-github",
        "colab_type": "text"
      },
      "source": [
        "<a href=\"https://colab.research.google.com/github/halcy/LearningJAX/blob/main/JAX_Day_2_Evening_Diffusion_beginnings.ipynb\" target=\"_parent\"><img src=\"https://colab.research.google.com/assets/colab-badge.svg\" alt=\"Open In Colab\"/></a>"
      ]
    },
    {
      "cell_type": "markdown",
      "metadata": {
        "id": "MZsydUDmQuBT"
      },
      "source": [
        "# JAX Day 2 - Evening - Lets try diffusion, a bit\n",
        "\n",
        "The ultimate goal here was to train a simple diffusion model on a TPU, so lets go towards that."
      ]
    },
    {
      "cell_type": "code",
      "metadata": {
        "colab": {
          "base_uri": "https://localhost:8080/"
        },
        "id": "fI8gUnVLwrlV",
        "outputId": "14e3c1d1-14ae-462a-b230-f75d52458f22"
      },
      "source": [
        "# Catchall \"what is this runtime\" cell\n",
        "!nvidia-smi\n",
        "GPU = !nvidia_smi\n",
        "\n",
        "if len(GPU) > 3:\n",
        "    GPU = True\n",
        "else:\n",
        "    GPU = False\n",
        "\n",
        "!vmstat\n",
        "print(\"\")\n",
        "\n",
        "import os\n",
        "\n",
        "if \"COLAB_TPU_ADDR\" in os.environ:\n",
        "    from tensorflow.python.profiler import profiler_client\n",
        "    print(\"tpu:\", os.environ['COLAB_TPU_ADDR'])\n",
        "    tpu_profile_service_address = os.environ['COLAB_TPU_ADDR'].replace('8470', '8466')\n",
        "    print(profiler_client.monitor(tpu_profile_service_address, 100, 2).strip())\n",
        "    TPU = True\n",
        "else:\n",
        "    print(\"tpu: no\")\n",
        "    TPU = False\n",
        "\n",
        "CPUS = os.cpu_count()\n",
        "print(\"\\ncpus:\", CPUS)"
      ],
      "execution_count": 1,
      "outputs": [
        {
          "output_type": "stream",
          "text": [
            "NVIDIA-SMI has failed because it couldn't communicate with the NVIDIA driver. Make sure that the latest NVIDIA driver is installed and running.\n",
            "\n",
            "procs -----------memory---------- ---swap-- -----io---- -system-- ------cpu-----\n",
            " r  b   swpd   free   buff  cache   si   so    bi    bo   in   cs us sy id wa st\n",
            " 0  1      0 10688840  87972 2034456    0    0   828    15  176  330  2  1 96  1  0\n",
            "\n",
            "tpu: 10.81.66.170:8470\n",
            "Timestamp: 06:28:58\n",
            "  TPU type: TPU v2\n",
            "  Utilization of TPU Matrix Units (higher is better): 0.000%\n",
            "\n",
            "cpus: 2\n"
          ],
          "name": "stdout"
        }
      ]
    },
    {
      "cell_type": "markdown",
      "metadata": {
        "id": "mcWWDPaGQmTG"
      },
      "source": [
        "# Basic setup\n",
        "\n",
        "Instead of Haiku, we'll try flax this time"
      ]
    },
    {
      "cell_type": "code",
      "metadata": {
        "id": "DmhGBH-7zUJO",
        "colab": {
          "base_uri": "https://localhost:8080/"
        },
        "outputId": "edaa7f5a-6af1-47d4-9db8-dc12c78f724b"
      },
      "source": [
        "# Set JAX, flax and optax up for the TPU\n",
        "!pip install --upgrade -q jax jaxlib optax tqdm\n",
        "!pip install --upgrade flax\n",
        "\n",
        "import requests\n",
        "import os\n",
        "\n",
        "if 'TPU_DRIVER_MODE' not in globals():\n",
        "    url = 'http://' + os.environ['COLAB_TPU_ADDR'].split(':')[0] + ':8475/requestversion/tpu_driver_nightly'\n",
        "    resp = requests.post(url)\n",
        "    TPU_DRIVER_MODE = 1\n",
        "\n",
        "# TPU driver as backend for JAX\n",
        "from jax.config import config\n",
        "config.FLAGS.jax_xla_backend = \"tpu_driver\"\n",
        "config.FLAGS.jax_backend_target = \"grpc://\" + os.environ['COLAB_TPU_ADDR']"
      ],
      "execution_count": 2,
      "outputs": [
        {
          "output_type": "stream",
          "text": [
            "\u001b[K     |████████████████████████████████| 708 kB 5.3 MB/s \n",
            "\u001b[K     |████████████████████████████████| 118 kB 49.5 MB/s \n",
            "\u001b[K     |████████████████████████████████| 76 kB 4.1 MB/s \n",
            "\u001b[K     |████████████████████████████████| 57 kB 5.1 MB/s \n",
            "\u001b[?25h  Building wheel for jax (setup.py) ... \u001b[?25l\u001b[?25hdone\n",
            "Collecting flax\n",
            "  Downloading flax-0.3.4-py3-none-any.whl (183 kB)\n",
            "\u001b[K     |████████████████████████████████| 183 kB 6.7 MB/s \n",
            "\u001b[?25hRequirement already satisfied: numpy>=1.12 in /usr/local/lib/python3.7/dist-packages (from flax) (1.19.5)\n",
            "Requirement already satisfied: optax in /usr/local/lib/python3.7/dist-packages (from flax) (0.0.9)\n",
            "Requirement already satisfied: msgpack in /usr/local/lib/python3.7/dist-packages (from flax) (1.0.2)\n",
            "Requirement already satisfied: jax>=0.2.13 in /usr/local/lib/python3.7/dist-packages (from flax) (0.2.18)\n",
            "Requirement already satisfied: matplotlib in /usr/local/lib/python3.7/dist-packages (from flax) (3.2.2)\n",
            "Requirement already satisfied: absl-py in /usr/local/lib/python3.7/dist-packages (from jax>=0.2.13->flax) (0.12.0)\n",
            "Requirement already satisfied: opt-einsum in /usr/local/lib/python3.7/dist-packages (from jax>=0.2.13->flax) (3.3.0)\n",
            "Requirement already satisfied: six in /usr/local/lib/python3.7/dist-packages (from absl-py->jax>=0.2.13->flax) (1.15.0)\n",
            "Requirement already satisfied: kiwisolver>=1.0.1 in /usr/local/lib/python3.7/dist-packages (from matplotlib->flax) (1.3.1)\n",
            "Requirement already satisfied: cycler>=0.10 in /usr/local/lib/python3.7/dist-packages (from matplotlib->flax) (0.10.0)\n",
            "Requirement already satisfied: pyparsing!=2.0.4,!=2.1.2,!=2.1.6,>=2.0.1 in /usr/local/lib/python3.7/dist-packages (from matplotlib->flax) (2.4.7)\n",
            "Requirement already satisfied: python-dateutil>=2.1 in /usr/local/lib/python3.7/dist-packages (from matplotlib->flax) (2.8.1)\n",
            "Requirement already satisfied: chex>=0.0.4 in /usr/local/lib/python3.7/dist-packages (from optax->flax) (0.0.8)\n",
            "Requirement already satisfied: jaxlib>=0.1.37 in /usr/local/lib/python3.7/dist-packages (from optax->flax) (0.1.69+cuda110)\n",
            "Requirement already satisfied: dm-tree>=0.1.5 in /usr/local/lib/python3.7/dist-packages (from chex>=0.0.4->optax->flax) (0.1.6)\n",
            "Requirement already satisfied: toolz>=0.9.0 in /usr/local/lib/python3.7/dist-packages (from chex>=0.0.4->optax->flax) (0.11.1)\n",
            "Requirement already satisfied: flatbuffers<3.0,>=1.12 in /usr/local/lib/python3.7/dist-packages (from jaxlib>=0.1.37->optax->flax) (1.12)\n",
            "Requirement already satisfied: scipy in /usr/local/lib/python3.7/dist-packages (from jaxlib>=0.1.37->optax->flax) (1.4.1)\n",
            "Installing collected packages: flax\n",
            "Successfully installed flax-0.3.4\n"
          ],
          "name": "stdout"
        }
      ]
    },
    {
      "cell_type": "code",
      "metadata": {
        "id": "HHfiPH6dvtTQ"
      },
      "source": [
        "%matplotlib inline\n",
        "\n",
        "import matplotlib.pyplot as plt\n",
        "import numpy as np\n",
        "\n",
        "import jax\n",
        "import jax.numpy as jnp\n",
        "from jax import jit, lax\n",
        "from jax import nn as jnn\n",
        "from jax import random as jr\n",
        "\n",
        "import flax.linen as nn\n",
        "from flax.core import freeze, unfreeze\n",
        "\n",
        "from typing import Any, Callable, Sequence, Optional\n",
        "\n",
        "from jax.experimental.maps import xmap, mesh\n",
        "from jax.experimental.pjit import pjit, PartitionSpec\n",
        "from jax.experimental import stax\n",
        "\n",
        "import optax\n",
        "import tqdm\n",
        "\n",
        "# Pinky promise: We are now aware xmap is experimental, and will adjust our expectations accordingly\n",
        "import warnings\n",
        "warnings.filterwarnings(\"ignore\", message=\"xmap is an experimental feature and probably has bugs!\")"
      ],
      "execution_count": 3,
      "outputs": []
    },
    {
      "cell_type": "code",
      "metadata": {
        "id": "nbHUX9RfxFKs"
      },
      "source": [
        "# Generate PRNG state\n",
        "prng = jr.PRNGKey(23)"
      ],
      "execution_count": 4,
      "outputs": []
    },
    {
      "cell_type": "code",
      "metadata": {
        "id": "nHVJ0A4GtCNK",
        "colab": {
          "base_uri": "https://localhost:8080/",
          "height": 196,
          "referenced_widgets": [
            "5609a0ab023947ba9299621f1d9cd485",
            "e61a45b4b8154a47a7902cbef25312eb",
            "cc3632064cef48719afd999bce4a63a7",
            "de687127333b4072bffd1b78e671fa41",
            "cce625f6424d47b796ef554fa7192495",
            "988bb90b596046f8bfb83c37eeb6ceb7",
            "041b482f600b4175af3351fd4cd9f0df",
            "aef02c0d3f654cce9993a83001fc180f",
            "834e19463dbd4d2980164213deec664e",
            "829d27bf22c64ee9b4fe779440fc465c",
            "160f4be054a4427182431155a9311f21"
          ]
        },
        "outputId": "d154cea7-0d99-4eef-d3af-47f4d602f9e8"
      },
      "source": [
        "# Lets get MNIST\n",
        "import tensorflow_datasets as tfds\n",
        "\n",
        "data_dir = '/tmp/tfds'\n",
        "\n",
        "# Fetch full datasets for evaluation\n",
        "mnist_data, info = tfds.load(name=\"mnist\", batch_size=-1, data_dir=data_dir, with_info=True)\n",
        "mnist_data = tfds.as_numpy(mnist_data)\n",
        "train_data, test_data = mnist_data['train'], mnist_data['test']\n",
        "num_labels = info.features['label'].num_classes\n",
        "h, w, c = info.features['image'].shape\n",
        "num_pixels = h * w * c\n",
        "\n",
        "# Full train set\n",
        "train_images, train_labels = train_data['image'], train_data['label']\n",
        "train_labels = jnn.one_hot(train_labels, num_labels)\n",
        "train_images = jnp.array(train_images.astype(jnp.float32)) # One change here: We're explicitly converting to a jax array\n",
        "\n",
        "# Full test set\n",
        "test_images, test_labels = test_data['image'], test_data['label']\n",
        "test_labels = jnn.one_hot(test_labels, num_labels)\n",
        "test_images = jnp.array(test_images.astype(jnp.float32)) # Same here"
      ],
      "execution_count": 5,
      "outputs": [
        {
          "output_type": "stream",
          "text": [
            "\u001b[1mDownloading and preparing dataset mnist/3.0.1 (download: 11.06 MiB, generated: 21.00 MiB, total: 32.06 MiB) to /tmp/tfds/mnist/3.0.1...\u001b[0m\n"
          ],
          "name": "stdout"
        },
        {
          "output_type": "stream",
          "text": [
            "WARNING:absl:Dataset mnist is hosted on GCS. It will automatically be downloaded to your\n",
            "local data directory. If you'd instead prefer to read directly from our public\n",
            "GCS bucket (recommended if you're running on GCP), you can instead pass\n",
            "`try_gcs=True` to `tfds.load` or set `data_dir=gs://tfds-data/datasets`.\n",
            "\n"
          ],
          "name": "stderr"
        },
        {
          "output_type": "display_data",
          "data": {
            "application/vnd.jupyter.widget-view+json": {
              "model_id": "5609a0ab023947ba9299621f1d9cd485",
              "version_minor": 0,
              "version_major": 2
            },
            "text/plain": [
              "Dl Completed...:   0%|          | 0/4 [00:00<?, ? file/s]"
            ]
          },
          "metadata": {
            "tags": []
          }
        },
        {
          "output_type": "stream",
          "text": [
            "\n",
            "\u001b[1mDataset mnist downloaded and prepared to /tmp/tfds/mnist/3.0.1. Subsequent calls will reuse this data.\u001b[0m\n"
          ],
          "name": "stdout"
        }
      ]
    },
    {
      "cell_type": "code",
      "metadata": {
        "colab": {
          "base_uri": "https://localhost:8080/",
          "height": 338
        },
        "id": "wQsxY4kxtD31",
        "outputId": "0dcb8958-9337-4512-ff99-6599c87e3e55"
      },
      "source": [
        "plt.figure(figsize=(5, 5))\n",
        "plt.imshow(test_images[0,:,:,0], interpolation=None)"
      ],
      "execution_count": 6,
      "outputs": [
        {
          "output_type": "execute_result",
          "data": {
            "text/plain": [
              "<matplotlib.image.AxesImage at 0x7ff0b63ec2d0>"
            ]
          },
          "metadata": {
            "tags": []
          },
          "execution_count": 6
        },
        {
          "output_type": "display_data",
          "data": {
            "image/png": "[encoded data removed]",
            "text/plain": [
              "<Figure size 360x360 with 1 Axes>"
            ]
          },
          "metadata": {
            "tags": [],
            "needs_background": "light"
          }
        }
      ]
    },
    {
      "cell_type": "markdown",
      "metadata": {
        "id": "rgVg9FFcVCdV"
      },
      "source": [
        "# Time to start implementing blocks for a diffusion model"
      ]
    },
    {
      "cell_type": "code",
      "metadata": {
        "id": "Hetm2Mql3YoK"
      },
      "source": [
        "class TimeEmbed(nn.Module):\n",
        "    \"\"\"\n",
        "    Timestep embedding module\n",
        "    \"\"\"\n",
        "    time_embed_dim: int\n",
        "\n",
        "    @nn.compact\n",
        "    def __call__(self, x):\n",
        "        x = nn.Dense(self.time_embed_dim)(x)\n",
        "        x = nn.silu(x)\n",
        "        x = nn.Dense(self.time_embed_dim)(x)\n",
        "        return x\n",
        "\n",
        "class TimestepBlock(nn.Module):\n",
        "    \"\"\"\n",
        "    Interface for modules that can take timestep embeddings as input\n",
        "    in addition to regular embeddings.\n",
        "    \"\"\"\n",
        "    def __call__(self, x, emb):\n",
        "        pass\n",
        "\n",
        "class TimestepEmbedSequential(TimestepBlock):\n",
        "    \"\"\"\n",
        "    Block that passes timestep embeddings to all submodules that\n",
        "    want them.\n",
        "\n",
        "    Also works as a regular sequential type module\n",
        "    \"\"\"\n",
        "    layers: Sequence[nn.Module]\n",
        "\n",
        "    @nn.compact\n",
        "    def __call__(self, x, emb = None):\n",
        "        for layer in self.layers:\n",
        "            if isinstance(layer, TimestepBlock):\n",
        "                x = layer(x, emb)\n",
        "            else:\n",
        "                x = layer(x)\n",
        "        return x\n",
        "\n",
        "class TimestepBlockTest(TimestepBlock):\n",
        "    \"\"\"\n",
        "    Dummy block for testing\n",
        "    \"\"\"\n",
        "    @nn.compact\n",
        "    def __call__(self, x, emb):\n",
        "        return x\n",
        "\n",
        "class ConvND(nn.Module):\n",
        "    \"\"\"\n",
        "    n-D convolution with square kernel\n",
        "    \"\"\"\n",
        "    dims: int\n",
        "    out_channels: int\n",
        "    kernel_size: int\n",
        "    stride: int = 1\n",
        "    padding: int = 'SAME'\n",
        "\n",
        "    def setup(self):\n",
        "        self.kernel = tuple([self.kernel_size] * self.dims)\n",
        "        self.strides = tuple([self.stride] * self.dims)\n",
        "        if self.padding in ['SAME', 'VALID']:\n",
        "            self.paddings = self.padding\n",
        "        else:\n",
        "            self.paddings = tuple([(self.padding, self.padding)] * self.dims)\n",
        "        self.conv = nn.Conv(self.out_channels, self.kernel, self.strides, self.paddings)\n",
        "\n",
        "    def __call__(self, x):\n",
        "        return self.conv(x)\n",
        "\n",
        "class AvgND(nn.Module):\n",
        "    \"\"\"\n",
        "    n-D average pooling with square window\n",
        "\n",
        "    Numeric padding is NOT supported, specify either SAME or VALID padding.\n",
        "    \"\"\"\n",
        "    dims: int\n",
        "    window_size: int = 2\n",
        "    stride: int = 2\n",
        "    padding: int = 'SAME'\n",
        "\n",
        "    def setup(self):\n",
        "        self.window = [1] + [self.window_size] * self.dims\n",
        "        self.strides = [1] + [self.stride] * self.dims\n",
        "        if self.padding in ['SAME', 'VALID']:\n",
        "            self.paddings = self.padding\n",
        "\n",
        "    def __call__(self, x):\n",
        "        full_window = tuple(list(self.window) + list([1] * (len(x.shape) - len(self.window) - 1)))\n",
        "        full_strides = tuple(list(self.strides) + list([1] * (len(x.shape) - len(self.window) - 1)))\n",
        "        return nn.avg_pool(x, full_window, full_strides, self.paddings)\n",
        "\n",
        "class Identity(nn.Module):\n",
        "  \"\"\"\n",
        "  For model building convenience, a class that does nothing\n",
        "  \"\"\"\n",
        "  @nn.compact\n",
        "  def __call__(self, x):\n",
        "      return x\n",
        "\n",
        "class Scale2X(nn.Module):\n",
        "  \"\"\"\n",
        "  nD 2x nearest neighbour scaling\n",
        "  \"\"\"\n",
        "  dims: int\n",
        "  \n",
        "  @nn.compact\n",
        "  def __call__(self, x):\n",
        "      tile_arr = [1] + [2] * self.dims + [1] * (len(x.shape) - self.dims - 1)\n",
        "      return jnp.tile(x, tile_arr)\n",
        "\n",
        "class Upsample(nn.Module):\n",
        "    \"\"\"\n",
        "    Upsampling layer, factor 2\n",
        "\n",
        "    Nearest neighour (element repeating), optionally with a convolution afterwards.\n",
        "    \"\"\"\n",
        "    dims: int\n",
        "    out_channels: int = 0\n",
        "    use_conv: bool = False\n",
        "\n",
        "    def setup(self):\n",
        "        self.scale = Scale2X(self.dims)\n",
        "        if self.use_conv:\n",
        "            assert self.out_channels != 0\n",
        "            self.conv = ConvND(self.dims, self.out_channels, 3)\n",
        "        else:\n",
        "            self.conv = Identity()\n",
        "\n",
        "    def __call__(self, x):\n",
        "        x = self.scale(x)\n",
        "        x = self.conv(x)\n",
        "        return x\n",
        "\n",
        "class Downsample(nn.Module):\n",
        "    \"\"\"\n",
        "    Downsampling layer, factor 2\n",
        "\n",
        "    Uses either average pooling (default) or a strided convolution.\n",
        "    \"\"\"\n",
        "    dims: int\n",
        "    out_channels: int = 0\n",
        "    use_conv: bool = False\n",
        "\n",
        "    def setup(self):\n",
        "        self.scale = Scale2X(self.dims)\n",
        "        if self.use_conv:\n",
        "            assert self.out_channels != 0\n",
        "            self.downsample = ConvND(self.dims, self.out_channels, 3, stride=2, padding=1)\n",
        "        else:\n",
        "            self.downsample = AvgND(self.dims)\n",
        "\n",
        "    def __call__(self, x):\n",
        "        x = self.downsample(x)\n",
        "        return x\n",
        "\n",
        "class ResBlock(TimestepBlock):\n",
        "    \"\"\"\n",
        "    Residual block with timesteps\n",
        "    \"\"\"\n",
        "    dims: int\n",
        "    in_channels: int\n",
        "    out_channels: int\n",
        "    dropout: int\n",
        "    use_conv: bool = False\n",
        "    up: bool = False\n",
        "    down: bool = False\n",
        "    use_scale_shift_norm: bool = False\n",
        "\n",
        "    def setup(self):\n",
        "        # Initial normalization block\n",
        "        self.in_block = TimestepEmbedSequential((\n",
        "            nn.GroupNorm(),\n",
        "            nn.silu,\n",
        "        ))\n",
        "\n",
        "        # Up/Downsampling block\n",
        "        if self.up:\n",
        "            self.h_upd = Upsample(self.dims) \n",
        "            self.x_upd = Upsample(self.dims)\n",
        "        elif self.down:\n",
        "            self.h_upd = Downsample(self.dims)\n",
        "            self.x_upd = Downsample(self.dims)\n",
        "        else:\n",
        "            self.h_upd = self.x_upd = Identity()\n",
        "\n",
        "        # Input convolution\n",
        "        self.in_conv = ConvND(self.dims, self.out_channels, 3)\n",
        "\n",
        "        # Embedding projection block\n",
        "        self.embed_project = TimestepEmbedSequential((\n",
        "            nn.silu,\n",
        "            nn.Dense(2 * self.out_channels if self.use_scale_shift_norm else self.out_channels)\n",
        "        ))\n",
        "\n",
        "        # Actual layer stack\n",
        "        self.out_norm = nn.GroupNorm()\n",
        "        self.out_layers = TimestepEmbedSequential((\n",
        "            nn.silu,\n",
        "            nn.Dropout(self.dropout, deterministic=True), # TODO: This should be dynamic, for training. Right now it's a noop.\n",
        "            ConvND(self.dims, self.out_channels, 3) # There was a zero initializer (?) here, it's gone now, sorry. Maybe not important.\n",
        "        ))\n",
        "\n",
        "        # Channel change for skip connection\n",
        "        if self.out_channels == self.in_channels:\n",
        "            self.skip_connection = Identity()\n",
        "        elif self.use_conv:\n",
        "            self.skip_connection = ConvND(self.dims, self.out_channels, 3)\n",
        "        else:\n",
        "            self.skip_connection = ConvND(self.dims, self.out_channels, 1)\n",
        "\n",
        "    def __call__(self, x, emb):\n",
        "        # For residual: Resample x\n",
        "        x_res = self.x_upd(x)\n",
        "\n",
        "        # Run x through input & up/downsample block\n",
        "        x = self.in_block(x)\n",
        "        x = self.h_upd(x)\n",
        "        x = self.in_conv(x)\n",
        "            \n",
        "        # Project embedding and unsqueeze up to match shape of x\n",
        "        emb_out = self.embed_project(emb.reshape(emb.shape[0], -1))\n",
        "        emb_out = emb_out.reshape((emb_out.shape[0],) + tuple([1] * (len(x.shape) - len(emb_out.shape))) + (emb_out.shape[-1],))\n",
        "        \n",
        "        # Apply actual convolution\n",
        "        if self.use_scale_shift_norm:\n",
        "            scale = emb_out[..., :self.out_channels]\n",
        "            shift = emb_out[..., self.out_channels:]\n",
        "            x = self.out_norm(x) * (1 + scale) + shift\n",
        "            x = self.out_layers(x)\n",
        "        else:\n",
        "            x = x + emb_out\n",
        "            x = self.out_norm(x)\n",
        "            x = self.out_layers(x)\n",
        "\n",
        "        # Return residual\n",
        "        return self.skip_connection(x_res) + x"
      ],
      "execution_count": 7,
      "outputs": []
    },
    {
      "cell_type": "code",
      "metadata": {
        "colab": {
          "base_uri": "https://localhost:8080/"
        },
        "id": "Lo7iJPGNJVEC",
        "outputId": "768023c0-7dcf-49f2-d1fc-d41851e3bca9"
      },
      "source": [
        "# Lets see if it works\n",
        "conv = ResBlock(2, 64, 128, .5, up=True, use_conv=False, use_scale_shift_norm=True)\n",
        "conv_in = jnp.zeros((10, 20, 20, 64))\n",
        "params = conv.init(prng, conv_in, conv_in)\n",
        "conv.apply(params, conv_in, conv_in).shape"
      ],
      "execution_count": 8,
      "outputs": [
        {
          "output_type": "execute_result",
          "data": {
            "text/plain": [
              "(10, 40, 40, 128)"
            ]
          },
          "metadata": {
            "tags": []
          },
          "execution_count": 8
        }
      ]
    },
    {
      "cell_type": "code",
      "metadata": {
        "id": "ZYMn4TpX_rMW"
      },
      "source": [
        "# TODO: Actual UNet model class\n",
        "def create_model(model_channels, channel_mult):\n",
        "    # Timestep embedding\n",
        "    time_embed_dim = model_channels * 4\n",
        "    self.time_embed = TimeEmbed(time_embed_dim)\n",
        "\n",
        "    # Input block\n",
        "    input_block_out_channels = int(channel_mult[0] * model_channels)\n",
        "    self.input_block = ConvND(dims, input_block_out_channels, 3, padding = 1)"
      ],
      "execution_count": 9,
      "outputs": []
    },
    {
      "cell_type": "markdown",
      "metadata": {
        "id": "hRIC9_keQjzS"
      },
      "source": [
        "# Next up\n",
        "Tomorrow, we continue where we left off: Lets implement the whole unet, maybe train something!"
      ]
    }
  ]
}