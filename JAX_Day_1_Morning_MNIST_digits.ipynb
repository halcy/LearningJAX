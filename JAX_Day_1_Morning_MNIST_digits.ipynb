{
  "nbformat": 4,
  "nbformat_minor": 0,
  "metadata": {
    "colab": {
      "name": "JAX Day 1 Morning - MNIST digits.ipynb",
      "provenance": [],
      "collapsed_sections": [],
      "toc_visible": true,
      "authorship_tag": "ABX9TyMtXyp74fOgf8dRu8Ut2/bh",
      "include_colab_link": true
    },
    "kernelspec": {
      "name": "python3",
      "display_name": "Python 3"
    },
    "language_info": {
      "name": "python"
    },
    "accelerator": "TPU",
    "widgets": {
      "application/vnd.jupyter.widget-state+json": {
        "c67d4fa41adb4038b1f103218043e32b": {
          "model_module": "@jupyter-widgets/controls",
          "model_name": "HBoxModel",
          "state": {
            "_view_name": "HBoxView",
            "_dom_classes": [],
            "_model_name": "HBoxModel",
            "_view_module": "@jupyter-widgets/controls",
            "_model_module_version": "1.5.0",
            "_view_count": null,
            "_view_module_version": "1.5.0",
            "box_style": "",
            "layout": "IPY_MODEL_daf5c36c83db4fbf9791a721dab12206",
            "_model_module": "@jupyter-widgets/controls",
            "children": [
              "IPY_MODEL_9f632d03dcd249ff83b9f94efaa53733",
              "IPY_MODEL_ee31a57e4bfb4598838953aafb59c3fd",
              "IPY_MODEL_78bbecd09d1e4f7094f47fd62641d3a1"
            ]
          }
        },
        "daf5c36c83db4fbf9791a721dab12206": {
          "model_module": "@jupyter-widgets/base",
          "model_name": "LayoutModel",
          "state": {
            "_view_name": "LayoutView",
            "grid_template_rows": null,
            "right": null,
            "justify_content": null,
            "_view_module": "@jupyter-widgets/base",
            "overflow": null,
            "_model_module_version": "1.2.0",
            "_view_count": null,
            "flex_flow": null,
            "width": null,
            "min_width": null,
            "border": null,
            "align_items": null,
            "bottom": null,
            "_model_module": "@jupyter-widgets/base",
            "top": null,
            "grid_column": null,
            "overflow_y": null,
            "overflow_x": null,
            "grid_auto_flow": null,
            "grid_area": null,
            "grid_template_columns": null,
            "flex": null,
            "_model_name": "LayoutModel",
            "justify_items": null,
            "grid_row": null,
            "max_height": null,
            "align_content": null,
            "visibility": null,
            "align_self": null,
            "height": null,
            "min_height": null,
            "padding": null,
            "grid_auto_rows": null,
            "grid_gap": null,
            "max_width": null,
            "order": null,
            "_view_module_version": "1.2.0",
            "grid_template_areas": null,
            "object_position": null,
            "object_fit": null,
            "grid_auto_columns": null,
            "margin": null,
            "display": null,
            "left": null
          }
        },
        "9f632d03dcd249ff83b9f94efaa53733": {
          "model_module": "@jupyter-widgets/controls",
          "model_name": "HTMLModel",
          "state": {
            "_view_name": "HTMLView",
            "style": "IPY_MODEL_e2a9f70166de44818622e69a8a4ee251",
            "_dom_classes": [],
            "description": "",
            "_model_name": "HTMLModel",
            "placeholder": "​",
            "_view_module": "@jupyter-widgets/controls",
            "_model_module_version": "1.5.0",
            "value": "Dl Completed...: 100%",
            "_view_count": null,
            "_view_module_version": "1.5.0",
            "description_tooltip": null,
            "_model_module": "@jupyter-widgets/controls",
            "layout": "IPY_MODEL_e370a0b2dc9a4e35a68b5250dc8612a8"
          }
        },
        "ee31a57e4bfb4598838953aafb59c3fd": {
          "model_module": "@jupyter-widgets/controls",
          "model_name": "FloatProgressModel",
          "state": {
            "_view_name": "ProgressView",
            "style": "IPY_MODEL_0f6718f32276449bb41f1f50560b8a43",
            "_dom_classes": [],
            "description": "",
            "_model_name": "FloatProgressModel",
            "bar_style": "success",
            "max": 4,
            "_view_module": "@jupyter-widgets/controls",
            "_model_module_version": "1.5.0",
            "value": 4,
            "_view_count": null,
            "_view_module_version": "1.5.0",
            "orientation": "horizontal",
            "min": 0,
            "description_tooltip": null,
            "_model_module": "@jupyter-widgets/controls",
            "layout": "IPY_MODEL_04d65235c814495fbe8d4ab291de9205"
          }
        },
        "78bbecd09d1e4f7094f47fd62641d3a1": {
          "model_module": "@jupyter-widgets/controls",
          "model_name": "HTMLModel",
          "state": {
            "_view_name": "HTMLView",
            "style": "IPY_MODEL_2eb12114e5184340bbdd2a7fc6fc0711",
            "_dom_classes": [],
            "description": "",
            "_model_name": "HTMLModel",
            "placeholder": "​",
            "_view_module": "@jupyter-widgets/controls",
            "_model_module_version": "1.5.0",
            "value": " 4/4 [00:00&lt;00:00,  4.87 file/s]",
            "_view_count": null,
            "_view_module_version": "1.5.0",
            "description_tooltip": null,
            "_model_module": "@jupyter-widgets/controls",
            "layout": "IPY_MODEL_16f20aa29f064df496eafba212c500a6"
          }
        },
        "e2a9f70166de44818622e69a8a4ee251": {
          "model_module": "@jupyter-widgets/controls",
          "model_name": "DescriptionStyleModel",
          "state": {
            "_view_name": "StyleView",
            "_model_name": "DescriptionStyleModel",
            "description_width": "",
            "_view_module": "@jupyter-widgets/base",
            "_model_module_version": "1.5.0",
            "_view_count": null,
            "_view_module_version": "1.2.0",
            "_model_module": "@jupyter-widgets/controls"
          }
        },
        "e370a0b2dc9a4e35a68b5250dc8612a8": {
          "model_module": "@jupyter-widgets/base",
          "model_name": "LayoutModel",
          "state": {
            "_view_name": "LayoutView",
            "grid_template_rows": null,
            "right": null,
            "justify_content": null,
            "_view_module": "@jupyter-widgets/base",
            "overflow": null,
            "_model_module_version": "1.2.0",
            "_view_count": null,
            "flex_flow": null,
            "width": null,
            "min_width": null,
            "border": null,
            "align_items": null,
            "bottom": null,
            "_model_module": "@jupyter-widgets/base",
            "top": null,
            "grid_column": null,
            "overflow_y": null,
            "overflow_x": null,
            "grid_auto_flow": null,
            "grid_area": null,
            "grid_template_columns": null,
            "flex": null,
            "_model_name": "LayoutModel",
            "justify_items": null,
            "grid_row": null,
            "max_height": null,
            "align_content": null,
            "visibility": null,
            "align_self": null,
            "height": null,
            "min_height": null,
            "padding": null,
            "grid_auto_rows": null,
            "grid_gap": null,
            "max_width": null,
            "order": null,
            "_view_module_version": "1.2.0",
            "grid_template_areas": null,
            "object_position": null,
            "object_fit": null,
            "grid_auto_columns": null,
            "margin": null,
            "display": null,
            "left": null
          }
        },
        "0f6718f32276449bb41f1f50560b8a43": {
          "model_module": "@jupyter-widgets/controls",
          "model_name": "ProgressStyleModel",
          "state": {
            "_view_name": "StyleView",
            "_model_name": "ProgressStyleModel",
            "description_width": "",
            "_view_module": "@jupyter-widgets/base",
            "_model_module_version": "1.5.0",
            "_view_count": null,
            "_view_module_version": "1.2.0",
            "bar_color": null,
            "_model_module": "@jupyter-widgets/controls"
          }
        },
        "04d65235c814495fbe8d4ab291de9205": {
          "model_module": "@jupyter-widgets/base",
          "model_name": "LayoutModel",
          "state": {
            "_view_name": "LayoutView",
            "grid_template_rows": null,
            "right": null,
            "justify_content": null,
            "_view_module": "@jupyter-widgets/base",
            "overflow": null,
            "_model_module_version": "1.2.0",
            "_view_count": null,
            "flex_flow": null,
            "width": null,
            "min_width": null,
            "border": null,
            "align_items": null,
            "bottom": null,
            "_model_module": "@jupyter-widgets/base",
            "top": null,
            "grid_column": null,
            "overflow_y": null,
            "overflow_x": null,
            "grid_auto_flow": null,
            "grid_area": null,
            "grid_template_columns": null,
            "flex": null,
            "_model_name": "LayoutModel",
            "justify_items": null,
            "grid_row": null,
            "max_height": null,
            "align_content": null,
            "visibility": null,
            "align_self": null,
            "height": null,
            "min_height": null,
            "padding": null,
            "grid_auto_rows": null,
            "grid_gap": null,
            "max_width": null,
            "order": null,
            "_view_module_version": "1.2.0",
            "grid_template_areas": null,
            "object_position": null,
            "object_fit": null,
            "grid_auto_columns": null,
            "margin": null,
            "display": null,
            "left": null
          }
        },
        "2eb12114e5184340bbdd2a7fc6fc0711": {
          "model_module": "@jupyter-widgets/controls",
          "model_name": "DescriptionStyleModel",
          "state": {
            "_view_name": "StyleView",
            "_model_name": "DescriptionStyleModel",
            "description_width": "",
            "_view_module": "@jupyter-widgets/base",
            "_model_module_version": "1.5.0",
            "_view_count": null,
            "_view_module_version": "1.2.0",
            "_model_module": "@jupyter-widgets/controls"
          }
        },
        "16f20aa29f064df496eafba212c500a6": {
          "model_module": "@jupyter-widgets/base",
          "model_name": "LayoutModel",
          "state": {
            "_view_name": "LayoutView",
            "grid_template_rows": null,
            "right": null,
            "justify_content": null,
            "_view_module": "@jupyter-widgets/base",
            "overflow": null,
            "_model_module_version": "1.2.0",
            "_view_count": null,
            "flex_flow": null,
            "width": null,
            "min_width": null,
            "border": null,
            "align_items": null,
            "bottom": null,
            "_model_module": "@jupyter-widgets/base",
            "top": null,
            "grid_column": null,
            "overflow_y": null,
            "overflow_x": null,
            "grid_auto_flow": null,
            "grid_area": null,
            "grid_template_columns": null,
            "flex": null,
            "_model_name": "LayoutModel",
            "justify_items": null,
            "grid_row": null,
            "max_height": null,
            "align_content": null,
            "visibility": null,
            "align_self": null,
            "height": null,
            "min_height": null,
            "padding": null,
            "grid_auto_rows": null,
            "grid_gap": null,
            "max_width": null,
            "order": null,
            "_view_module_version": "1.2.0",
            "grid_template_areas": null,
            "object_position": null,
            "object_fit": null,
            "grid_auto_columns": null,
            "margin": null,
            "display": null,
            "left": null
          }
        }
      }
    }
  },
  "cells": [
    {
      "cell_type": "markdown",
      "metadata": {
        "id": "view-in-github",
        "colab_type": "text"
      },
      "source": [
        "<a href=\"https://colab.research.google.com/github/halcy/LearningJAX/blob/main/JAX_Day_1_Morning_MNIST_digits.ipynb\" target=\"_parent\"><img src=\"https://colab.research.google.com/assets/colab-badge.svg\" alt=\"Open In Colab\"/></a>"
      ]
    },
    {
      "cell_type": "markdown",
      "metadata": {
        "id": "MZsydUDmQuBT"
      },
      "source": [
        "# JAX Day 1 - Morning - MNIST Digits classifier\n",
        "\n",
        "This is a simple notebook to train a basic MNIST digits classifier with around 98% accuracy, using JAX on a single TPU device. This is about the most basic example that actually does anything that I can think of."
      ]
    },
    {
      "cell_type": "code",
      "metadata": {
        "colab": {
          "base_uri": "https://localhost:8080/"
        },
        "id": "fI8gUnVLwrlV",
        "outputId": "48b9626d-9984-4895-d4a7-516ee7358304"
      },
      "source": [
        "# Catchall \"what is this runtime\" cell\n",
        "!nvidia-smi\n",
        "GPU = !nvidia_smi\n",
        "\n",
        "if len(GPU) > 3:\n",
        "    GPU = True\n",
        "else:\n",
        "    GPU = False\n",
        "\n",
        "!vmstat\n",
        "print(\"\")\n",
        "\n",
        "import os\n",
        "\n",
        "if \"COLAB_TPU_ADDR\" in os.environ:\n",
        "    from tensorflow.python.profiler import profiler_client\n",
        "    print(\"tpu:\", os.environ['COLAB_TPU_ADDR'])\n",
        "    tpu_profile_service_address = os.environ['COLAB_TPU_ADDR'].replace('8470', '8466')\n",
        "    print(profiler_client.monitor(tpu_profile_service_address, 100, 2).strip())\n",
        "    TPU = True\n",
        "else:\n",
        "    print(\"tpu: no\")\n",
        "    TPU = False\n",
        "\n",
        "CPUS = os.cpu_count()\n",
        "print(\"\\ncpus:\", CPUS)"
      ],
      "execution_count": null,
      "outputs": [
        {
          "output_type": "stream",
          "text": [
            "NVIDIA-SMI has failed because it couldn't communicate with the NVIDIA driver. Make sure that the latest NVIDIA driver is installed and running.\n",
            "\n",
            "procs -----------memory---------- ---swap-- -----io---- -system-- ------cpu-----\n",
            " r  b   swpd   free   buff  cache   si   so    bi    bo   in   cs us sy id wa st\n",
            " 0  0      0 10669724 102316 2035320    0    0  1413    31  233  490  3  2 94  1  0\n",
            "\n",
            "tpu: 10.6.191.242:8470\n",
            "Timestamp: 16:56:23\n",
            "  TPU type: TPU v2\n",
            "  Utilization of TPU Matrix Units (higher is better): 0.000%\n",
            "\n",
            "cpus: 2\n"
          ],
          "name": "stdout"
        }
      ]
    },
    {
      "cell_type": "markdown",
      "metadata": {
        "id": "mcWWDPaGQmTG"
      },
      "source": [
        "# Basic setup and data loading\n",
        "\n",
        "This sets up the environment for JAX to run on a TPU, sets up the PRNG state that JAX, being a pure (i.e. no side effects) function composition library makes you drag along when needed, and grabs a copy of the MNIST digits dataset.\n",
        "\n",
        "We use the following libraries with JAX:\n",
        "* Haiku - a neural network definition library with primitives for things like conv nets and batch normalization\n",
        "* Optax - A library with optimizers"
      ]
    },
    {
      "cell_type": "code",
      "metadata": {
        "id": "DmhGBH-7zUJO",
        "colab": {
          "base_uri": "https://localhost:8080/"
        },
        "outputId": "2b18357a-3a3f-467c-c813-4799d1a90ca5"
      },
      "source": [
        "# Set JAX, haiku and optax up for the TPU\n",
        "!pip install --upgrade -q jax jaxlib dm-haiku optax tqdm\n",
        "\n",
        "import requests\n",
        "import os\n",
        "\n",
        "if 'TPU_DRIVER_MODE' not in globals():\n",
        "    url = 'http://' + os.environ['COLAB_TPU_ADDR'].split(':')[0] + ':8475/requestversion/tpu_driver_nightly'\n",
        "    resp = requests.post(url)\n",
        "    TPU_DRIVER_MODE = 1\n",
        "\n",
        "# TPU driver as backend for JAX\n",
        "from jax.config import config\n",
        "config.FLAGS.jax_xla_backend = \"tpu_driver\"\n",
        "config.FLAGS.jax_backend_target = \"grpc://\" + os.environ['COLAB_TPU_ADDR']"
      ],
      "execution_count": null,
      "outputs": [
        {
          "output_type": "stream",
          "text": [
            "\u001b[K     |████████████████████████████████| 708 kB 7.1 MB/s \n",
            "\u001b[K     |████████████████████████████████| 284 kB 17.1 MB/s \n",
            "\u001b[K     |████████████████████████████████| 118 kB 18.4 MB/s \n",
            "\u001b[K     |████████████████████████████████| 76 kB 3.9 MB/s \n",
            "\u001b[K     |████████████████████████████████| 57 kB 5.0 MB/s \n",
            "\u001b[?25h  Building wheel for jax (setup.py) ... \u001b[?25l\u001b[?25hdone\n"
          ],
          "name": "stdout"
        }
      ]
    },
    {
      "cell_type": "code",
      "metadata": {
        "id": "HHfiPH6dvtTQ"
      },
      "source": [
        "%matplotlib inline\n",
        "\n",
        "import matplotlib.pyplot as plt\n",
        "import numpy as np\n",
        "\n",
        "import jax\n",
        "import jax.numpy as jnp\n",
        "from jax import jit, nn\n",
        "\n",
        "import haiku as hk\n",
        "import optax\n",
        "\n",
        "import tqdm"
      ],
      "execution_count": null,
      "outputs": []
    },
    {
      "cell_type": "code",
      "metadata": {
        "id": "nbHUX9RfxFKs"
      },
      "source": [
        "# Generate PRNG state\n",
        "prng = jax.random.PRNGKey(23)"
      ],
      "execution_count": null,
      "outputs": []
    },
    {
      "cell_type": "code",
      "metadata": {
        "id": "Z_Bc03_7weiw",
        "colab": {
          "base_uri": "https://localhost:8080/",
          "height": 196,
          "referenced_widgets": [
            "c67d4fa41adb4038b1f103218043e32b",
            "daf5c36c83db4fbf9791a721dab12206",
            "9f632d03dcd249ff83b9f94efaa53733",
            "ee31a57e4bfb4598838953aafb59c3fd",
            "78bbecd09d1e4f7094f47fd62641d3a1",
            "e2a9f70166de44818622e69a8a4ee251",
            "e370a0b2dc9a4e35a68b5250dc8612a8",
            "0f6718f32276449bb41f1f50560b8a43",
            "04d65235c814495fbe8d4ab291de9205",
            "2eb12114e5184340bbdd2a7fc6fc0711",
            "16f20aa29f064df496eafba212c500a6"
          ]
        },
        "outputId": "5b49e545-985e-48bd-9699-4301fd9bc7f2"
      },
      "source": [
        "# Lets get MNIST\n",
        "import tensorflow_datasets as tfds\n",
        "\n",
        "data_dir = '/tmp/tfds'\n",
        "\n",
        "# Fetch full datasets for evaluation\n",
        "mnist_data, info = tfds.load(name=\"mnist\", batch_size=-1, data_dir=data_dir, with_info=True)\n",
        "mnist_data = tfds.as_numpy(mnist_data)\n",
        "train_data, test_data = mnist_data['train'], mnist_data['test']\n",
        "num_labels = info.features['label'].num_classes\n",
        "h, w, c = info.features['image'].shape\n",
        "num_pixels = h * w * c\n",
        "\n",
        "# Full train set\n",
        "train_images, train_labels = train_data['image'], train_data['label']\n",
        "train_labels = nn.one_hot(train_labels, num_labels)\n",
        "train_images = train_images.astype(jnp.float32)\n",
        "\n",
        "# Full test set\n",
        "test_images, test_labels = test_data['image'], test_data['label']\n",
        "test_labels = nn.one_hot(test_labels, num_labels)\n",
        "test_images = test_images.astype(jnp.float32)"
      ],
      "execution_count": null,
      "outputs": [
        {
          "output_type": "stream",
          "text": [
            "\u001b[1mDownloading and preparing dataset mnist/3.0.1 (download: 11.06 MiB, generated: 21.00 MiB, total: 32.06 MiB) to /tmp/tfds/mnist/3.0.1...\u001b[0m\n"
          ],
          "name": "stdout"
        },
        {
          "output_type": "stream",
          "text": [
            "WARNING:absl:Dataset mnist is hosted on GCS. It will automatically be downloaded to your\n",
            "local data directory. If you'd instead prefer to read directly from our public\n",
            "GCS bucket (recommended if you're running on GCP), you can instead pass\n",
            "`try_gcs=True` to `tfds.load` or set `data_dir=gs://tfds-data/datasets`.\n",
            "\n"
          ],
          "name": "stderr"
        },
        {
          "output_type": "display_data",
          "data": {
            "application/vnd.jupyter.widget-view+json": {
              "model_id": "c67d4fa41adb4038b1f103218043e32b",
              "version_minor": 0,
              "version_major": 2
            },
            "text/plain": [
              "Dl Completed...:   0%|          | 0/4 [00:00<?, ? file/s]"
            ]
          },
          "metadata": {
            "tags": []
          }
        },
        {
          "output_type": "stream",
          "text": [
            "\n",
            "\u001b[1mDataset mnist downloaded and prepared to /tmp/tfds/mnist/3.0.1. Subsequent calls will reuse this data.\u001b[0m\n"
          ],
          "name": "stdout"
        }
      ]
    },
    {
      "cell_type": "code",
      "metadata": {
        "colab": {
          "base_uri": "https://localhost:8080/",
          "height": 338
        },
        "id": "SE2psIcK3yUF",
        "outputId": "0fc0dfe0-d2f8-442c-af69-acddbf97c67e"
      },
      "source": [
        "plt.figure(figsize=(5, 5))\n",
        "plt.imshow(test_images[0,:,:,0], interpolation=None)"
      ],
      "execution_count": null,
      "outputs": [
        {
          "output_type": "execute_result",
          "data": {
            "text/plain": [
              "<matplotlib.image.AxesImage at 0x7f955df12690>"
            ]
          },
          "metadata": {
            "tags": []
          },
          "execution_count": 6
        },
        {
          "output_type": "display_data",
          "data": {
            "image/png": "[encoded data removed]",
            "text/plain": [
              "<Figure size 360x360 with 1 Axes>"
            ]
          },
          "metadata": {
            "tags": [],
            "needs_background": "light"
          }
        }
      ]
    },
    {
      "cell_type": "markdown",
      "metadata": {
        "id": "SI215Of8RCxh"
      },
      "source": [
        "# Network setup\n",
        "\n",
        "Set up the network. The basic network shape here is \"some sort of resnet\", no guarantees that this is sensible at all. Some notes:\n",
        "\n",
        "* Note how we call hk.transform_with_state to instantiate our network? What this does is take the network, and return a named tuple of two pure functions. First, .init, which returns the initial parameters and state (hence, _with_state - needed for the batch normalization, in our case) and params. Second, .apply, which takes parameters, state, PRNG state and input data, and returns whatever our network returns.\n",
        "* The Optax optimizer is similar, .init gives optimizer parameters, .update returns updated network parameters and optimizer state given gradients."
      ]
    },
    {
      "cell_type": "code",
      "metadata": {
        "id": "v0jQyjSy4F4s"
      },
      "source": [
        "# Lets define a network\n",
        "class ResBlock(hk.Module):\n",
        "    def __call__(self, x):\n",
        "        conv1 = hk.Conv2D(7, (3, 3))\n",
        "        conv2 = hk.Conv2D(5, (5, 5))\n",
        "        conv3 = hk.Conv2D(1, (7, 7))\n",
        "        \n",
        "        x_in = x\n",
        "        x = jax.nn.relu(conv1(x))\n",
        "        x = jax.nn.relu(conv2(x))\n",
        "        x = jax.nn.relu(conv3(x))\n",
        "        x = hk.max_pool(x, (1, 3, 3, 1), 1, 'SAME')\n",
        "        x = x - x_in\n",
        "\n",
        "        return x + w\n",
        "\n",
        "# \"idk, a resnet?\"\n",
        "def network(x, is_training):\n",
        "    block1 = ResBlock()\n",
        "    bn1 = hk.BatchNorm(True, True, 0.999)\n",
        "\n",
        "    block2 = ResBlock()\n",
        "    bn2 = hk.BatchNorm(True, True, 0.999)\n",
        "    \n",
        "    block3 = ResBlock()\n",
        "    bn3 = hk.BatchNorm(True, True, 0.999)\n",
        "    \n",
        "    project = hk.Linear(num_labels)\n",
        "    x = block1(x)\n",
        "    x = bn1(x, is_training)\n",
        "\n",
        "    x = block2(x)\n",
        "    x = bn2(x, is_training)\n",
        "\n",
        "    x = block3(x)\n",
        "    x = bn3(x, is_training)\n",
        "\n",
        "    x = x.reshape(-1, num_pixels)\n",
        "    x = project(x)\n",
        "    return x"
      ],
      "execution_count": null,
      "outputs": []
    },
    {
      "cell_type": "code",
      "metadata": {
        "id": "rsbLX32UHMwA"
      },
      "source": [
        "# Some parameters\n",
        "batch_size = 1024\n",
        "learning_rate = 0.0001\n",
        "train_epochs = 50"
      ],
      "execution_count": null,
      "outputs": []
    },
    {
      "cell_type": "code",
      "metadata": {
        "id": "6JfO7GwJKzk9"
      },
      "source": [
        "# Construct a model and optimizer\n",
        "model = hk.transform_with_state(network)\n",
        "opt = optax.chain(\n",
        "    optax.scale_by_adam(b1=0.9, b2=0.999, eps=1e-8),\n",
        "    optax.scale(-learning_rate)\n",
        ")"
      ],
      "execution_count": null,
      "outputs": []
    },
    {
      "cell_type": "code",
      "metadata": {
        "id": "llHVidKd4qB0"
      },
      "source": [
        "# Init model and optimizer parameters\n",
        "params, state = model.init(prng, train_images[:1, :, :, :], is_training = True)\n",
        "opt_params = opt.init(params)"
      ],
      "execution_count": null,
      "outputs": []
    },
    {
      "cell_type": "code",
      "metadata": {
        "id": "vfRcq7c-NW4M"
      },
      "source": [
        "# Define a loss function\n",
        "def loss_fn(params, state, x, y):\n",
        "    x, state = model.apply(params, state, None, x, is_training=True)\n",
        "    x = nn.log_softmax(x)\n",
        "    loss = -jnp.mean(x * y)\n",
        "    return loss, (loss, state)"
      ],
      "execution_count": null,
      "outputs": []
    },
    {
      "cell_type": "markdown",
      "metadata": {
        "id": "WTU_NhuuS9DF"
      },
      "source": [
        "# Train\n",
        "\n",
        "Finally, we can train. We could just run this directly without jit-ing, but that would be somewhat slow. Instead, we can jit - and we can do so at various different levels, eother just the evaluation of the loss function, or a whole update step - or even a complete unrolled epoch!"
      ]
    },
    {
      "cell_type": "code",
      "metadata": {
        "colab": {
          "base_uri": "https://localhost:8080/"
        },
        "id": "6GTkWtOhWzX7",
        "outputId": "9a979aad-dbfc-427e-ccbd-8cb8e91f7a16"
      },
      "source": [
        "# You could jit just the loss function...\n",
        "# loss_fn = jit(loss_fn)\n",
        "\n",
        "def train_step(params, state, opt_params, x, y):\n",
        "    grad, (loss, state) = jax.grad(loss_fn, has_aux=True)(params, state, x, y)\n",
        "    updates, opt_params = opt.update(grad, opt_params, params)\n",
        "    params = optax.apply_updates(params, updates)\n",
        "    return params, state, opt_params, loss\n",
        "\n",
        "# Or jit a step (this is likely the most sensible thing)...\n",
        "train_step = jit(train_step)\n",
        "\n",
        "def train_epoch(params, state, opt_params):\n",
        "    losses = []\n",
        "    for batch in jnp.arange(0, len(train_images), batch_size):\n",
        "        x = train_images[batch:batch+batch_size,:,:,:]\n",
        "        y = train_labels[batch:batch+batch_size,:]\n",
        "        params, state, opt_params, loss = train_step(params, state, opt_params, x, y)\n",
        "        losses.append(loss)\n",
        "    return params, state, opt_params, losses\n",
        "\n",
        "# Or an entire unrolled epoch (bad idea, generally, huge memory / compilation time sink)\n",
        "#train_epoch = jit(train_epoch)\n",
        "\n",
        "for step in range(train_epochs):\n",
        "    losses = []\n",
        "    params, state, opt_params, losses = train_epoch(params, state, opt_params)\n",
        "    print(\"e:\", step, \"l:\", np.mean(losses))"
      ],
      "execution_count": null,
      "outputs": [
        {
          "output_type": "stream",
          "text": [
            "e: 0 l: 0.21341863\n",
            "e: 1 l: 0.13839717\n",
            "e: 2 l: 0.09467633\n",
            "e: 3 l: 0.06623664\n",
            "e: 4 l: 0.04847922\n",
            "e: 5 l: 0.038238954\n",
            "e: 6 l: 0.031417634\n",
            "e: 7 l: 0.026573995\n",
            "e: 8 l: 0.023100587\n",
            "e: 9 l: 0.020549478\n",
            "e: 10 l: 0.01864132\n",
            "e: 11 l: 0.01715308\n",
            "e: 12 l: 0.015959896\n",
            "e: 13 l: 0.014973958\n",
            "e: 14 l: 0.014143918\n",
            "e: 15 l: 0.0134232445\n",
            "e: 16 l: 0.012801917\n",
            "e: 17 l: 0.012251562\n",
            "e: 18 l: 0.011766247\n",
            "e: 19 l: 0.011325394\n",
            "e: 20 l: 0.010928549\n",
            "e: 21 l: 0.0105622085\n",
            "e: 22 l: 0.010232149\n",
            "e: 23 l: 0.009928647\n",
            "e: 24 l: 0.009641716\n",
            "e: 25 l: 0.00937583\n",
            "e: 26 l: 0.009128608\n",
            "e: 27 l: 0.008890614\n",
            "e: 28 l: 0.008670028\n",
            "e: 29 l: 0.008472329\n",
            "e: 30 l: 0.008278087\n",
            "e: 31 l: 0.008097707\n",
            "e: 32 l: 0.007926204\n",
            "e: 33 l: 0.0077711716\n",
            "e: 34 l: 0.0076172613\n",
            "e: 35 l: 0.007475287\n",
            "e: 36 l: 0.007337143\n",
            "e: 37 l: 0.007203609\n",
            "e: 38 l: 0.0070745833\n",
            "e: 39 l: 0.006956692\n",
            "e: 40 l: 0.0068435115\n",
            "e: 41 l: 0.0067292163\n",
            "e: 42 l: 0.006618696\n",
            "e: 43 l: 0.006517505\n",
            "e: 44 l: 0.006415152\n",
            "e: 45 l: 0.0063130925\n",
            "e: 46 l: 0.006220402\n",
            "e: 47 l: 0.006124385\n",
            "e: 48 l: 0.0060314997\n",
            "e: 49 l: 0.0059469147\n"
          ],
          "name": "stdout"
        }
      ]
    },
    {
      "cell_type": "markdown",
      "metadata": {
        "id": "MVb1ThJjTPUf"
      },
      "source": [
        "# Evaluation\n",
        "Finally, lets just calculate test set accuracy."
      ]
    },
    {
      "cell_type": "code",
      "metadata": {
        "id": "UgfIg6bsAyIM"
      },
      "source": [
        "test_pred, _ = model.apply(params, state, None, test_images, is_training=False)"
      ],
      "execution_count": null,
      "outputs": []
    },
    {
      "cell_type": "code",
      "metadata": {
        "id": "rHHkcvppICpT",
        "colab": {
          "base_uri": "https://localhost:8080/"
        },
        "outputId": "b7060be1-0e54-4c2f-f8d6-f27d51ff8a62"
      },
      "source": [
        "print(\"accuracy:\", np.mean((np.argmax(test_pred, axis = -1) - np.argmax(test_labels, axis = -1)) == 0))"
      ],
      "execution_count": null,
      "outputs": [
        {
          "output_type": "stream",
          "text": [
            "accuracy: 0.9788\n"
          ],
          "name": "stdout"
        }
      ]
    },
    {
      "cell_type": "markdown",
      "metadata": {
        "id": "cGrlMFe7uF6W"
      },
      "source": [
        "# Next up\n",
        "This afternoon, lets learn how to run things on more than one TPU device!"
      ]
    }
  ]
}